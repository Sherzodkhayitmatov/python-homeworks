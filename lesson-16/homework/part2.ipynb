{
 "cells": [
  {
   "cell_type": "code",
   "execution_count": null,
   "metadata": {},
   "outputs": [],
   "source": [
    "import pandas as pd\n",
    "\n",
    "iris_df = pd.read_json('iris.json')\n",
    "iris_df.columns = iris_df.columns.str.lower()\n",
    "iris_selected = iris_df[['sepal_length', 'sepal_width']]\n",
    "print(\"Iris Selected Columns:\\n\", iris_selected.head())\n",
    "\n"
   ]
  },
  {
   "cell_type": "code",
   "execution_count": null,
   "metadata": {},
   "outputs": [],
   "source": [
    "titanic_df = pd.read_excel('titanic.xlsx')\n",
    "titanic_age_filtered = titanic_df[titanic_df['Age'] > 30]\n",
    "print(\"\\nTitanic - Age > 30:\\n\", titanic_age_filtered.head())\n",
    "gender_counts = titanic_df['Sex'].value_counts()\n",
    "print(\"\\nGender Counts:\\n\", gender_counts)\n",
    "\n"
   ]
  },
  {
   "cell_type": "code",
   "execution_count": null,
   "metadata": {},
   "outputs": [],
   "source": [
    "\n",
    "flights_df = pd.read_parquet('flights.parquet')\n",
    "flights_selected = flights_df[['origin', 'dest', 'carrier']]\n",
    "print(\"\\nFlights Selected Columns:\\n\", flights_selected.head())\n",
    "unique_destinations = flights_df['dest'].nunique()\n",
    "print(\"\\nNumber of Unique Destinations:\", unique_destinations)\n",
    "\n"
   ]
  },
  {
   "cell_type": "code",
   "execution_count": null,
   "metadata": {},
   "outputs": [],
   "source": [
    "movies_df = pd.read_csv('movie.csv')\n",
    "movies_filtered = movies_df[movies_df['duration'] > 120]\n",
    "movies_sorted = movies_filtered.sort_values(by='director_facebook_likes', ascending=False)\n",
    "print(\"\\nMovies Sorted by Director Facebook Likes:\\n\", movies_sorted.head())"
   ]
  },
  {
   "cell_type": "code",
   "execution_count": null,
   "metadata": {},
   "outputs": [],
   "source": []
  }
 ],
 "metadata": {
  "language_info": {
   "name": "python"
  }
 },
 "nbformat": 4,
 "nbformat_minor": 2
}
