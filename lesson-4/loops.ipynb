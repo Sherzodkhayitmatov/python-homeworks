{
 "cells": [
  {
   "cell_type": "markdown",
   "metadata": {},
   "source": [
    "-Loops"
   ]
  },
  {
   "cell_type": "code",
   "execution_count": 2,
   "metadata": {},
   "outputs": [
    {
     "name": "stdout",
     "output_type": "stream",
     "text": [
      "still running\n"
     ]
    }
   ],
   "source": [
    "while True:\n",
    "    print(\"still running\")\n",
    "    break"
   ]
  },
  {
   "cell_type": "markdown",
   "metadata": {},
   "source": [
    "Continue"
   ]
  },
  {
   "cell_type": "code",
   "execution_count": 5,
   "metadata": {},
   "outputs": [
    {
     "name": "stdout",
     "output_type": "stream",
     "text": [
      "cnt= 2\n",
      "cnt= 3\n",
      "cnt= 4\n",
      "cnt= 5\n",
      "cnt= 6\n",
      "cnt= 7\n",
      "cnt= 8\n",
      "cnt= 9\n",
      "cnt= 10\n",
      "cnt= 11\n",
      "cnt= 12\n",
      "cnt= 13\n",
      "cnt= 14\n",
      "cnt= 15\n",
      "cnt= 16\n",
      "cnt= 17\n",
      "cnt= 18\n",
      "cnt= 19\n",
      "cnt= 20\n",
      "cnt= 21\n",
      "cnt= 22\n",
      "cnt= 23\n",
      "cnt= 24\n",
      "cnt= 25\n",
      "cnt= 26\n",
      "cnt= 27\n",
      "cnt= 28\n",
      "cnt= 29\n",
      "cnt= 30\n"
     ]
    }
   ],
   "source": [
    "cnt = 1\n",
    "while cnt < 30:\n",
    "    cnt += 1\n",
    "    print(\"cnt=\", cnt)\n",
    "    if cnt in (10, 15, 20):\n",
    "        continue\n",
    "    "
   ]
  },
  {
   "cell_type": "code",
   "execution_count": 8,
   "metadata": {},
   "outputs": [
    {
     "name": "stdout",
     "output_type": "stream",
     "text": [
      "Found\n"
     ]
    }
   ],
   "source": [
    "l = [1,2,3]\n",
    "i = 0\n",
    "check_num = 3\n",
    "\n",
    "while i < len(l):\n",
    "    if l[i] == check_num:\n",
    "        print(\"Found\")\n",
    "        break\n",
    "    i += 1\n",
    "else:\n",
    "    print(\"Number Not found\")"
   ]
  },
  {
   "cell_type": "markdown",
   "metadata": {},
   "source": [
    "For Loop"
   ]
  },
  {
   "cell_type": "code",
   "execution_count": 10,
   "metadata": {},
   "outputs": [
    {
     "name": "stdout",
     "output_type": "stream",
     "text": [
      "[1, 4, 9]\n"
     ]
    }
   ],
   "source": [
    "l = [1,2,3]\n",
    "other_list = []\n",
    "i = 0\n",
    "while i < len(l):\n",
    "    a = l[i]\n",
    "    other_list.append(a**2)\n",
    "    i += 1\n",
    "print(other_list)"
   ]
  },
  {
   "cell_type": "code",
   "execution_count": 11,
   "metadata": {},
   "outputs": [
    {
     "name": "stdout",
     "output_type": "stream",
     "text": [
      "[1, 4, 9]\n"
     ]
    }
   ],
   "source": [
    "other_list = []\n",
    "for a in l:\n",
    "    other_list.append(a**2)\n",
    "print(other_list)"
   ]
  },
  {
   "cell_type": "code",
   "execution_count": 13,
   "metadata": {},
   "outputs": [
    {
     "name": "stdout",
     "output_type": "stream",
     "text": [
      "user1 John\n",
      "user2 Man\n",
      "user3 Car\n"
     ]
    }
   ],
   "source": [
    "users = {'user1': \"John\", 'user2': \"Man\", 'user3': \"Car\"}\n",
    "\n",
    "for user in users:\n",
    "    print(user, users[user])"
   ]
  },
  {
   "cell_type": "code",
   "execution_count": 15,
   "metadata": {},
   "outputs": [
    {
     "name": "stdout",
     "output_type": "stream",
     "text": [
      "John\n",
      "Man\n",
      "Car\n"
     ]
    }
   ],
   "source": [
    "users = {'user1': \"John\", 'user2': \"Man\", 'user3': \"Car\"}\n",
    "\n",
    "for user in users.values():\n",
    "    print(user)"
   ]
  },
  {
   "cell_type": "code",
   "execution_count": 18,
   "metadata": {},
   "outputs": [
    {
     "name": "stdout",
     "output_type": "stream",
     "text": [
      "Java 14\n",
      "Python 3\n",
      "JK 6\n"
     ]
    }
   ],
   "source": [
    "language = [\"Java\", \"Python\", \"JK\"]\n",
    "versions = [14, 3, 6]\n",
    "i=0\n",
    "for lang, ver in zip(language,versions):\n",
    "    print(lang, ver)"
   ]
  },
  {
   "cell_type": "code",
   "execution_count": 1,
   "metadata": {},
   "outputs": [
    {
     "name": "stdout",
     "output_type": "stream",
     "text": [
      "3\n"
     ]
    }
   ],
   "source": [
    "x = 0\n",
    "a = 5\n",
    "b = 5\n",
    "if a > 0:\n",
    "    if b < 0: \n",
    "        x = x + 5 \n",
    "    elif a > 5:\n",
    "        x = x + 4\n",
    "    else:\n",
    "        x = x + 3\n",
    "else:\n",
    "    x = x + 2\n",
    "print(x)"
   ]
  },
  {
   "cell_type": "code",
   "execution_count": 9,
   "metadata": {},
   "outputs": [
    {
     "name": "stdout",
     "output_type": "stream",
     "text": [
      "-2, -3, -4, "
     ]
    }
   ],
   "source": [
    "for num in range(-2,-5,-1):\n",
    "    print(num, end=\", \")"
   ]
  },
  {
   "cell_type": "code",
   "execution_count": null,
   "metadata": {},
   "outputs": [],
   "source": []
  }
 ],
 "metadata": {
  "kernelspec": {
   "display_name": "Python 3",
   "language": "python",
   "name": "python3"
  },
  "language_info": {
   "codemirror_mode": {
    "name": "ipython",
    "version": 3
   },
   "file_extension": ".py",
   "mimetype": "text/x-python",
   "name": "python",
   "nbconvert_exporter": "python",
   "pygments_lexer": "ipython3",
   "version": "3.12.3"
  }
 },
 "nbformat": 4,
 "nbformat_minor": 2
}
