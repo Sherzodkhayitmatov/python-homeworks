{
 "cells": [
  {
   "cell_type": "code",
   "execution_count": 4,
   "metadata": {},
   "outputs": [
    {
     "name": "stdout",
     "output_type": "stream",
     "text": [
      "Point1: (3, 4)\n",
      "Point2 (16, 8)\n",
      "Distance between point1 and point2: 13.601470508735444\n",
      "Is point1 inside the circle: True\n",
      "Is point2 inside the circle: False\n"
     ]
    }
   ],
   "source": [
    "import math\n",
    "\n",
    "point1 = (3,4)\n",
    "point2 = (16,8)\n",
    "\n",
    "circle_center = (5, 5)\n",
    "circle_radius = 5\n",
    "\n",
    "\n",
    "def distance(p1, p2):\n",
    "    return math.sqrt((p1[0] - p2[0])**2  + (p1[1] - p2[1])**2)\n",
    "\n",
    "def is_inside_circle(center, radius, point):\n",
    "    return distance(center, point) <= radius\n",
    "\n",
    "print(\"Point1:\", point1)\n",
    "print(\"Point2\", point2)\n",
    "print(\"Distance between point1 and point2:\", distance(point1, point2))\n",
    "print(\"Is point1 inside the circle:\", is_inside_circle(circle_center, circle_radius, point1))\n",
    "print(\"Is point2 inside the circle:\", is_inside_circle(circle_center, circle_radius, point2))"
   ]
  },
  {
   "cell_type": "code",
   "execution_count": 1,
   "metadata": {},
   "outputs": [
    {
     "name": "stdout",
     "output_type": "stream",
     "text": [
      "Initial balance for Alice: 100\n",
      "Balance after deposit for Alice: 150\n",
      "Balance after withdrawal for Alice: 100\n"
     ]
    }
   ],
   "source": [
    "accounts = {}\n",
    "\n",
    "def create_account(account_number, owner, balance=0):\n",
    "    accounts[account_number] = {\"Owner\": {owner} , \"balance\":balance}\n",
    "    \n",
    "def deposit(account_number, amount):\n",
    "    accounts[account_number][\"balance\"] += amount \n",
    "    \n",
    "def withdraw(account_number, amount):\n",
    "    if accounts[account_number][\"balance\"] >= amount:\n",
    "        accounts[account_number][\"balance\"] -= amount\n",
    "        return True\n",
    "    return False\n",
    "\n",
    "def get_balance(account_number):\n",
    "    return accounts[account_number][\"balance\"]\n",
    "\n",
    "create_account(\"12345\", \"hero\", 100)\n",
    "create_account(\"12346\", \"heroic\", 50)\n",
    "\n",
    "print(\"Initial balance for Alice:\", get_balance(\"12345\"))\n",
    "deposit(\"12345\", 50)\n",
    "print(\"Balance after deposit for Alice:\", get_balance(\"12345\"))\n",
    "withdraw(\"12345\", 50)\n",
    "print(\"Balance after withdrawal for Alice:\", get_balance(\"12345\"))"
   ]
  },
  {
   "cell_type": "code",
   "execution_count": 3,
   "metadata": {},
   "outputs": [
    {
     "name": "stdout",
     "output_type": "stream",
     "text": [
      "5\n",
      "6\n"
     ]
    }
   ],
   "source": [
    "class Point:\n",
    "    pass\n",
    "\n",
    "a = Point()\n",
    "a.x = 5\n",
    "a.y = 6\n",
    "print(a.x)\n",
    "print(a.y)"
   ]
  },
  {
   "cell_type": "code",
   "execution_count": 5,
   "metadata": {},
   "outputs": [
    {
     "name": "stdout",
     "output_type": "stream",
     "text": [
      "2\n",
      "4\n"
     ]
    }
   ],
   "source": [
    "class Point:\n",
    "    \n",
    "    def __init__(self, birinchi, ikkinchi):\n",
    "        self.x = birinchi\n",
    "        self.y = ikkinchi\n",
    "      \n",
    "a = Point(2,4)  \n",
    "print(a.x)\n",
    "print(a.y)"
   ]
  },
  {
   "cell_type": "code",
   "execution_count": null,
   "metadata": {},
   "outputs": [],
   "source": []
  },
  {
   "cell_type": "code",
   "execution_count": null,
   "metadata": {},
   "outputs": [],
   "source": []
  },
  {
   "cell_type": "code",
   "execution_count": null,
   "metadata": {},
   "outputs": [],
   "source": []
  },
  {
   "cell_type": "code",
   "execution_count": null,
   "metadata": {},
   "outputs": [],
   "source": []
  },
  {
   "cell_type": "code",
   "execution_count": null,
   "metadata": {},
   "outputs": [],
   "source": []
  },
  {
   "cell_type": "code",
   "execution_count": null,
   "metadata": {},
   "outputs": [],
   "source": []
  }
 ],
 "metadata": {
  "kernelspec": {
   "display_name": "Python 3",
   "language": "python",
   "name": "python3"
  },
  "language_info": {
   "codemirror_mode": {
    "name": "ipython",
    "version": 3
   },
   "file_extension": ".py",
   "mimetype": "text/x-python",
   "name": "python",
   "nbconvert_exporter": "python",
   "pygments_lexer": "ipython3",
   "version": "3.12.3"
  }
 },
 "nbformat": 4,
 "nbformat_minor": 2
}
