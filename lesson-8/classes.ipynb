{
 "cells": [
  {
   "cell_type": "code",
   "execution_count": 5,
   "metadata": {},
   "outputs": [],
   "source": [
    "class Person:\n",
    "    def __init__ (self,name, age, salary):\n",
    "        self.name = name\n",
    "        self.age = age\n",
    "        self.salary = salary\n",
    "        \n",
    "person = Person(\"Hero\", 21, 5000)"
   ]
  },
  {
   "cell_type": "code",
   "execution_count": 7,
   "metadata": {},
   "outputs": [
    {
     "name": "stdout",
     "output_type": "stream",
     "text": [
      "21\n"
     ]
    }
   ],
   "source": [
    "print(person.age)"
   ]
  },
  {
   "cell_type": "code",
   "execution_count": 8,
   "metadata": {},
   "outputs": [
    {
     "name": "stdout",
     "output_type": "stream",
     "text": [
      "Hero\n"
     ]
    }
   ],
   "source": [
    "print(person.name)"
   ]
  },
  {
   "cell_type": "code",
   "execution_count": 12,
   "metadata": {},
   "outputs": [
    {
     "name": "stdout",
     "output_type": "stream",
     "text": [
      "Person(name=hero, age=21)\n",
      "eating meal\n",
      "walking\n"
     ]
    }
   ],
   "source": [
    "class Person:\n",
    "    def __init__(self, name, age):\n",
    "        self.name = name\n",
    "        self.age = age\n",
    "        \n",
    "    def eat(self):\n",
    "        print(\"eating meal\")\n",
    "        \n",
    "    def walk(self):\n",
    "        print(\"walking\")\n",
    "    \n",
    "    def __str__(self):\n",
    "        return f\"Person(name={self.name}, age={self.age})\"\n",
    "    \n",
    "p1 = Person(\"hero\", 21)\n",
    "print(p1)\n",
    "p1.eat()\n",
    "p1.walk()"
   ]
  },
  {
   "cell_type": "code",
   "execution_count": 13,
   "metadata": {},
   "outputs": [],
   "source": [
    "class Teacher(Person):\n",
    "    pass"
   ]
  },
  {
   "cell_type": "code",
   "execution_count": 15,
   "metadata": {},
   "outputs": [
    {
     "name": "stdout",
     "output_type": "stream",
     "text": [
      "eating meal\n"
     ]
    }
   ],
   "source": [
    "t = Teacher(\"jhon\", 20)\n",
    "t.eat()"
   ]
  },
  {
   "cell_type": "code",
   "execution_count": 16,
   "metadata": {},
   "outputs": [],
   "source": [
    "class Teacher:\n",
    "    def __init__(self, name, age, subject):\n",
    "        # self.name = name \n",
    "        # self.age = age        Bu ikkala qator bizga endi kerak ams chunki biz super() ishlatyapmiz!\n",
    "        super().__init__(name, age)\n",
    "        self.subject = subject\n",
    "        \n",
    "    \n",
    "    "
   ]
  },
  {
   "cell_type": "code",
   "execution_count": 20,
   "metadata": {},
   "outputs": [
    {
     "name": "stdout",
     "output_type": "stream",
     "text": [
      "[1, 2, 3, 4]\n"
     ]
    }
   ],
   "source": [
    "class NumberList(list):\n",
    "    \n",
    "    def append(self, value):\n",
    "        if not isinstance(value, (int, float)):\n",
    "            raise ValueError('Can only append numeric type.')\n",
    "        list.append(self, value)\n",
    "        \n",
    "a = NumberList([1,2,3])\n",
    "a.append(4)\n",
    "print(a)\n"
   ]
  },
  {
   "cell_type": "code",
   "execution_count": 26,
   "metadata": {},
   "outputs": [
    {
     "name": "stdout",
     "output_type": "stream",
     "text": [
      "Person(name='New', age=42)\n"
     ]
    }
   ],
   "source": [
    "class Person:\n",
    "    def __init__(self, name, age):\n",
    "        if not isinstance(name, str) or name == \"\":\n",
    "            raise ValueError(f\"name cannot be {name!r}\")\n",
    "        self.name = name\n",
    "        if not isinstance(age, int) or age < 0:\n",
    "            raise ValueError(f\"age cannot be {age!r}\")\n",
    "        self.age = age\n",
    "        \n",
    "    def __str__(self):\n",
    "        return f\"Person(name={self.name!r}, age={self.age!r})\"\n",
    "    \n",
    "p1 = Person(\"New\", 42)\n",
    "print(p1)\n",
    "        "
   ]
  },
  {
   "cell_type": "code",
   "execution_count": null,
   "metadata": {},
   "outputs": [
    {
     "ename": "NameError",
     "evalue": "name 'getter' is not defined",
     "output_type": "error",
     "traceback": [
      "\u001b[1;31m---------------------------------------------------------------------------\u001b[0m",
      "\u001b[1;31mNameError\u001b[0m                                 Traceback (most recent call last)",
      "Cell \u001b[1;32mIn[10], line 1\u001b[0m\n\u001b[1;32m----> 1\u001b[0m \u001b[43mgetter\u001b[49m \n",
      "\u001b[1;31mNameError\u001b[0m: name 'getter' is not defined"
     ]
    }
   ],
   "source": [
    "\n"
   ]
  },
  {
   "cell_type": "code",
   "execution_count": null,
   "metadata": {},
   "outputs": [],
   "source": []
  },
  {
   "cell_type": "code",
   "execution_count": null,
   "metadata": {},
   "outputs": [],
   "source": []
  },
  {
   "cell_type": "code",
   "execution_count": 29,
   "metadata": {},
   "outputs": [],
   "source": [
    "from urllib.request import urlopen\n",
    "\n",
    "class WebPage:\n",
    "    def __init__(self, url):\n",
    "        self.url = url\n",
    "        self.content = None\n",
    "        \n",
    "        @property\n",
    "        def content(self):\n",
    "            if not self.__content:\n",
    "                print('Retriving New page...')\n",
    "            self.__content = urlopen(self.url).read()\n",
    "            return self.__contemt"
   ]
  },
  {
   "cell_type": "code",
   "execution_count": 34,
   "metadata": {},
   "outputs": [
    {
     "name": "stdout",
     "output_type": "stream",
     "text": [
      "calling classmethod...\n"
     ]
    }
   ],
   "source": [
    "class Demo:\n",
    "    def regular(self):\n",
    "        print(\"calling regular method...\")\n",
    "        \n",
    "    @staticmethod\n",
    "    def static():\n",
    "        print(\"calling static method...\")\n",
    "        \n",
    "    @classmethod\n",
    "    def classm(self):\n",
    "        print(\"calling classmethod...\")\n",
    "        \n",
    "a = Demo()\n",
    "#a.regular()\n",
    "#a.static()\n",
    "a.classm()"
   ]
  },
  {
   "cell_type": "code",
   "execution_count": 9,
   "metadata": {},
   "outputs": [
    {
     "name": "stdout",
     "output_type": "stream",
     "text": [
      "Person(name='adam', age=21)\n"
     ]
    },
    {
     "data": {
      "text/plain": [
       "'adam'"
      ]
     },
     "execution_count": 9,
     "metadata": {},
     "output_type": "execute_result"
    }
   ],
   "source": [
    "class Person:\n",
    "    def __init__(self, name, age):\n",
    "        if not isinstance(name, str) or name == \"\":\n",
    "            raise ValueError(f\"name cannot be {name!r}\")\n",
    "        self.__name = name\n",
    "        \n",
    "        if not isinstance(age, int) or age<0:\n",
    "            raise ValueError(f\"age cannot be {age!r}\")\n",
    "        self.__age = age\n",
    "        \n",
    "    def set_name(self, name):\n",
    "        if not isinstance(name, str) or name == \"\":\n",
    "            raise ValueError(f\"name cannot be {name!r}\")\n",
    "        self.__name = name\n",
    "            \n",
    "    def get_name(self):\n",
    "        return self.__name\n",
    "        \n",
    "    def set_age(self, age):\n",
    "        if not isinstance(age,  int) or a<0:\n",
    "            raise ValueError(f\"age cannot be {age!r}\")\n",
    "        self.__age = age\n",
    "            \n",
    "    def get_age(self):\n",
    "        return self.__age\n",
    "        \n",
    "    def __str__(self):\n",
    "        return f\"Person(name={self.__name!r}, age={self.__age!r})\"\n",
    "        \n",
    "p1 = Person(\"john\", 21)\n",
    "p1.set_name(\"adam\")\n",
    "print(p1)\n",
    "p1.get_name()"
   ]
  },
  {
   "cell_type": "code",
   "execution_count": null,
   "metadata": {},
   "outputs": [],
   "source": []
  },
  {
   "cell_type": "code",
   "execution_count": null,
   "metadata": {},
   "outputs": [],
   "source": []
  }
 ],
 "metadata": {
  "kernelspec": {
   "display_name": "Python 3",
   "language": "python",
   "name": "python3"
  },
  "language_info": {
   "codemirror_mode": {
    "name": "ipython",
    "version": 3
   },
   "file_extension": ".py",
   "mimetype": "text/x-python",
   "name": "python",
   "nbconvert_exporter": "python",
   "pygments_lexer": "ipython3",
   "version": "3.12.3"
  }
 },
 "nbformat": 4,
 "nbformat_minor": 2
}
