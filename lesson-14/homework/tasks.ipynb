{
 "cells": [
  {
   "cell_type": "code",
   "execution_count": 8,
   "metadata": {},
   "outputs": [
    {
     "name": "stdout",
     "output_type": "stream",
     "text": [
      "[  0.          20.          37.77777778 100.          25.        ]\n"
     ]
    }
   ],
   "source": [
    "import numpy as np\n",
    "\n",
    "def fah_to_cel(f):\n",
    "    return (f-32)* 5 / 9\n",
    "tem_f = np.array([32, 68, 100, 212, 77])\n",
    "tem_c = fah_to_cel(tem_f)\n",
    "print(tem_c)"
   ]
  },
  {
   "cell_type": "code",
   "execution_count": 9,
   "metadata": {},
   "outputs": [
    {
     "data": {
      "text/plain": [
       "array([  2,   9,  64, 625])"
      ]
     },
     "execution_count": 9,
     "metadata": {},
     "output_type": "execute_result"
    }
   ],
   "source": [
    "def power(a,b):\n",
    "    return a**b\n",
    "\n",
    "a = np.array([2, 3, 4, 5])\n",
    "b = np.array([1, 2, 3, 4])\n",
    "power(a,b)"
   ]
  },
  {
   "cell_type": "code",
   "execution_count": 17,
   "metadata": {},
   "outputs": [
    {
     "data": {
      "text/plain": [
       "array([ 1.7027027 ,  0.62162162, -0.48648649])"
      ]
     },
     "execution_count": 17,
     "metadata": {},
     "output_type": "execute_result"
    }
   ],
   "source": [
    "x = np.array([\n",
    "    [4, 5, 6],\n",
    "    [3, -1, 1],\n",
    "    [2, 1, -2]\n",
    "])\n",
    "y = np.array([7, 4, 5])\n",
    "np.linalg.solve(x,y)"
   ]
  },
  {
   "cell_type": "code",
   "execution_count": 23,
   "metadata": {},
   "outputs": [
    {
     "name": "stdout",
     "output_type": "stream",
     "text": [
      "I1 = 0.48963730569948194\n",
      "I2 = -0.2253886010362694\n",
      "I3 = 2.2176165803108807\n"
     ]
    }
   ],
   "source": [
    "x = np.array([\n",
    "    [10, -2, 3],\n",
    "    [-2, 8, -1],\n",
    "    [3, -1, 6]\n",
    "])\n",
    "y = np.array([12, -5, 15])\n",
    "solution = np.linalg.solve(x,y)\n",
    "print(f\"I1 = {solution[0]}\")\n",
    "print(f\"I2 = {solution[1]}\")\n",
    "print(f\"I3 = {solution[2]}\")"
   ]
  },
  {
   "cell_type": "code",
   "execution_count": null,
   "metadata": {},
   "outputs": [],
   "source": []
  }
 ],
 "metadata": {
  "kernelspec": {
   "display_name": "Python 3",
   "language": "python",
   "name": "python3"
  },
  "language_info": {
   "codemirror_mode": {
    "name": "ipython",
    "version": 3
   },
   "file_extension": ".py",
   "mimetype": "text/x-python",
   "name": "python",
   "nbconvert_exporter": "python",
   "pygments_lexer": "ipython3",
   "version": "3.10.10"
  }
 },
 "nbformat": 4,
 "nbformat_minor": 2
}
